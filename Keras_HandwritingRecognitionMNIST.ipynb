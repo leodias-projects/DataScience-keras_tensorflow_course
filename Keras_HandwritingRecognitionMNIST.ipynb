{
 "cells": [
  {
   "cell_type": "markdown",
   "id": "f52f8e4d",
   "metadata": {},
   "source": [
    "# Keras\n",
    "\n",
    "Keras is a high level API for tensorflow. It has scikit-learn integration and was built around deep learning concepts, so it is very easy to construct the layers and implement the optimization functions.\n",
    "\n",
    "The objective here is to set the same neural network used in Tensorflow low-level API for the MNIST data set, but this time with keras."
   ]
  },
  {
   "cell_type": "code",
   "execution_count": 10,
   "id": "969f992d",
   "metadata": {},
   "outputs": [],
   "source": [
    "from tensorflow import keras\n",
    "from tensorflow.keras.datasets import mnist\n",
    "from tensorflow.keras.models import Sequential\n",
    "from tensorflow.keras.layers import Dense, Dropout\n",
    "from tensorflow.keras.optimizers import RMSprop"
   ]
  },
  {
   "cell_type": "markdown",
   "id": "9ec2961d",
   "metadata": {},
   "source": [
    "# Load MNIST dataset"
   ]
  },
  {
   "cell_type": "code",
   "execution_count": 11,
   "id": "91801e5e",
   "metadata": {},
   "outputs": [],
   "source": [
    "(mnist_train_images, mnist_train_labels), (mnist_test_images, mnist_test_labels) = mnist.load_data()"
   ]
  },
  {
   "cell_type": "markdown",
   "id": "ccaee87e",
   "metadata": {},
   "source": [
    "# Convert the data into Keras/TensorFlow format"
   ]
  },
  {
   "cell_type": "code",
   "execution_count": 12,
   "id": "17a1d200",
   "metadata": {},
   "outputs": [],
   "source": [
    "train_images = mnist_train_images.reshape(60000, 784)\n",
    "test_images = mnist_test_images.reshape(10000, 784)\n",
    "train_images = train_images.astype('float32')\n",
    "test_images = test_images.astype('float32')"
   ]
  },
  {
   "cell_type": "markdown",
   "id": "f5d479b2",
   "metadata": {},
   "source": [
    "# Divide the image data by 255 to normalize "
   ]
  },
  {
   "cell_type": "code",
   "execution_count": 13,
   "id": "f6373978",
   "metadata": {},
   "outputs": [],
   "source": [
    "train_images /= 255\n",
    "test_images /= 255"
   ]
  },
  {
   "cell_type": "markdown",
   "id": "b3b5b1b6",
   "metadata": {},
   "source": [
    "# One-hot encode the labels"
   ]
  },
  {
   "cell_type": "code",
   "execution_count": 14,
   "id": "e42b56fc",
   "metadata": {},
   "outputs": [],
   "source": [
    "y_train = keras.utils.to_categorical(mnist_train_labels, 10)\n",
    "y_test = keras.utils.to_categorical(mnist_test_labels, 10)"
   ]
  },
  {
   "cell_type": "markdown",
   "id": "418828c9",
   "metadata": {},
   "source": [
    "# Same visualization of training images"
   ]
  },
  {
   "cell_type": "code",
   "execution_count": 21,
   "id": "aaf1a36d",
   "metadata": {},
   "outputs": [
    {
     "data": {
      "image/png": "[encoded data removed]",
      "text/plain": [
       "<Figure size 432x288 with 1 Axes>"
      ]
     },
     "metadata": {
      "needs_background": "light"
     },
     "output_type": "display_data"
    }
   ],
   "source": [
    "import matplotlib.pyplot as plt\n",
    "\n",
    "def display_sample(num):\n",
    "    #Print the label\n",
    "    label = y_train[num].argmax(axis=0)\n",
    "    #Reshape to a 28x28 image\n",
    "    image = train_images[num].reshape([28,28])\n",
    "    plt.title('Sample: %d  Label: %d' % (num, label))\n",
    "    plt.imshow(image, cmap=plt.get_cmap('gray_r'))\n",
    "    plt.show()\n",
    "    \n",
    "display_sample(500)"
   ]
  },
  {
   "cell_type": "markdown",
   "id": "3ece21f9",
   "metadata": {},
   "source": [
    "# Neural network in Keras\n",
    "\n",
    "It is straightforward, and building the same as the low level API:\n",
    "- The input layer of 784 features feeds into a ReLU layer of 784 nodes\n",
    "- This layer feeds into another ReLU layer of 512 nodes\n",
    "- The 512 nodes layer goes into 10 nodes with softmax applied"
   ]
  },
  {
   "cell_type": "code",
   "execution_count": 30,
   "id": "ca3490b2",
   "metadata": {},
   "outputs": [],
   "source": [
    "model = Sequential()\n",
    "model.add(Dense(784, activation='relu', input_shape=(784,)))\n",
    "model.add(Dropout(0.2))\n",
    "model.add(Dense(512, activation='relu', input_shape=(784,)))\n",
    "model.add(Dropout(0.2))\n",
    "model.add(Dense(10, activation='softmax'))"
   ]
  },
  {
   "cell_type": "markdown",
   "id": "476f51bb",
   "metadata": {},
   "source": [
    "# Summary of the model"
   ]
  },
  {
   "cell_type": "code",
   "execution_count": 31,
   "id": "6c09a092",
   "metadata": {},
   "outputs": [
    {
     "name": "stdout",
     "output_type": "stream",
     "text": [
      "Model: \"sequential_2\"\n",
      "_________________________________________________________________\n",
      "Layer (type)                 Output Shape              Param #   \n",
      "=================================================================\n",
      "dense_5 (Dense)              (None, 784)               615440    \n",
      "_________________________________________________________________\n",
      "dropout (Dropout)            (None, 784)               0         \n",
      "_________________________________________________________________\n",
      "dense_6 (Dense)              (None, 512)               401920    \n",
      "_________________________________________________________________\n",
      "dropout_1 (Dropout)          (None, 512)               0         \n",
      "_________________________________________________________________\n",
      "dense_7 (Dense)              (None, 10)                5130      \n",
      "=================================================================\n",
      "Total params: 1,022,490\n",
      "Trainable params: 1,022,490\n",
      "Non-trainable params: 0\n",
      "_________________________________________________________________\n"
     ]
    }
   ],
   "source": [
    "model.summary()"
   ]
  },
  {
   "cell_type": "markdown",
   "id": "d849f068",
   "metadata": {},
   "source": [
    "# Optimizer and loss function"
   ]
  },
  {
   "cell_type": "code",
   "execution_count": 32,
   "id": "f6235748",
   "metadata": {},
   "outputs": [],
   "source": [
    "model.compile(loss='categorical_crossentropy',\n",
    "              optimizer=RMSprop(),\n",
    "              metrics=['accuracy'])"
   ]
  },
  {
   "cell_type": "markdown",
   "id": "01b1069e",
   "metadata": {},
   "source": [
    "# Training the model\n",
    "\n",
    "10 epochs with a batch size of 100. Keras is slower and this can take some of time."
   ]
  },
  {
   "cell_type": "code",
   "execution_count": 33,
   "id": "12a48911",
   "metadata": {},
   "outputs": [
    {
     "name": "stdout",
     "output_type": "stream",
     "text": [
      "Epoch 1/10\n",
      "600/600 - 12s - loss: 0.2249 - accuracy: 0.9306 - val_loss: 0.1340 - val_accuracy: 0.9584\n",
      "Epoch 2/10\n",
      "600/600 - 13s - loss: 0.0975 - accuracy: 0.9711 - val_loss: 0.0871 - val_accuracy: 0.9766\n",
      "Epoch 3/10\n",
      "600/600 - 11s - loss: 0.0731 - accuracy: 0.9785 - val_loss: 0.0795 - val_accuracy: 0.9772\n",
      "Epoch 4/10\n",
      "600/600 - 11s - loss: 0.0588 - accuracy: 0.9829 - val_loss: 0.0779 - val_accuracy: 0.9796\n",
      "Epoch 5/10\n",
      "600/600 - 11s - loss: 0.0501 - accuracy: 0.9857 - val_loss: 0.0972 - val_accuracy: 0.9774\n",
      "Epoch 6/10\n",
      "600/600 - 11s - loss: 0.0472 - accuracy: 0.9871 - val_loss: 0.0829 - val_accuracy: 0.9818\n",
      "Epoch 7/10\n",
      "600/600 - 11s - loss: 0.0440 - accuracy: 0.9882 - val_loss: 0.1020 - val_accuracy: 0.9814\n",
      "Epoch 8/10\n",
      "600/600 - 11s - loss: 0.0372 - accuracy: 0.9901 - val_loss: 0.0967 - val_accuracy: 0.9835\n",
      "Epoch 9/10\n",
      "600/600 - 11s - loss: 0.0358 - accuracy: 0.9902 - val_loss: 0.0955 - val_accuracy: 0.9835\n",
      "Epoch 10/10\n",
      "600/600 - 11s - loss: 0.0327 - accuracy: 0.9911 - val_loss: 0.1091 - val_accuracy: 0.9824\n"
     ]
    }
   ],
   "source": [
    "history = model.fit(train_images, y_train,\n",
    "                    batch_size=100,\n",
    "                    epochs=10,\n",
    "                    verbose=2,\n",
    "                    validation_data=(test_images, y_test))"
   ]
  },
  {
   "cell_type": "code",
   "execution_count": 34,
   "id": "339a39df",
   "metadata": {},
   "outputs": [
    {
     "name": "stdout",
     "output_type": "stream",
     "text": [
      "Test loss: 0.10906815528869629\n",
      "Test accuracy: 0.9824000000953674\n"
     ]
    }
   ],
   "source": [
    "score = model.evaluate(test_images, test_labels, verbose=0)\n",
    "print('Test loss:', score[0])\n",
    "print('Test accuracy:', score[1])"
   ]
  },
  {
   "cell_type": "markdown",
   "id": "80fc21f2",
   "metadata": {},
   "source": [
    "Even with just 10 epochs, it outperformed Tensorflow version - **96% (low level API) vs 98% (Kera)**"
   ]
  },
  {
   "cell_type": "markdown",
   "id": "60350fd8",
   "metadata": {},
   "source": [
    "# Visualize the wrong ones"
   ]
  },
  {
   "cell_type": "code",
   "execution_count": 35,
   "id": "969e43a9",
   "metadata": {
    "scrolled": false
   },
   "outputs": [
    {
     "data": {
      "image/png": "[encoded data removed]",
      "text/plain": [
       "<Figure size 432x288 with 1 Axes>"
      ]
     },
     "metadata": {
      "needs_background": "light"
     },
     "output_type": "display_data"
    },
    {
     "data": {
      "image/png": "[encoded data removed]",
      "text/plain": [
       "<Figure size 432x288 with 1 Axes>"
      ]
     },
     "metadata": {
      "needs_background": "light"
     },
     "output_type": "display_data"
    },
    {
     "data": {
      "image/png": "[encoded data removed]",
      "text/plain": [
       "<Figure size 432x288 with 1 Axes>"
      ]
     },
     "metadata": {
      "needs_background": "light"
     },
     "output_type": "display_data"
    },
    {
     "data": {
      "image/png": "[encoded data removed]",
      "text/plain": [
       "<Figure size 432x288 with 1 Axes>"
      ]
     },
     "metadata": {
      "needs_background": "light"
     },
     "output_type": "display_data"
    },
    {
     "data": {
      "image/png": "[encoded data removed]",
      "text/plain": [
       "<Figure size 432x288 with 1 Axes>"
      ]
     },
     "metadata": {
      "needs_background": "light"
     },
     "output_type": "display_data"
    },
    {
     "data": {
      "image/png": "[encoded data removed]",
      "text/plain": [
       "<Figure size 432x288 with 1 Axes>"
      ]
     },
     "metadata": {
      "needs_background": "light"
     },
     "output_type": "display_data"
    },
    {
     "data": {
      "image/png": "[encoded data removed]",
      "text/plain": [
       "<Figure size 432x288 with 1 Axes>"
      ]
     },
     "metadata": {
      "needs_background": "light"
     },
     "output_type": "display_data"
    }
   ],
   "source": [
    "for x in range(500):\n",
    "    test_image = test_images[x,:].reshape(1,784)\n",
    "    predicted_cat = model.predict(test_image).argmax()\n",
    "    label = test_labels[x].argmax()\n",
    "    if (predicted_cat != label):\n",
    "        plt.title('Prediction: %d Label: %d' % (predicted_cat, label))\n",
    "        plt.imshow(test_image.reshape([28,28]), cmap=plt.get_cmap('gray_r'))\n",
    "        plt.show()"
   ]
  }
 ],
 "metadata": {
  "kernelspec": {
   "display_name": "Python 3",
   "language": "python",
   "name": "python3"
  },
  "language_info": {
   "codemirror_mode": {
    "name": "ipython",
    "version": 3
   },
   "file_extension": ".py",
   "mimetype": "text/x-python",
   "name": "python",
   "nbconvert_exporter": "python",
   "pygments_lexer": "ipython3",
   "version": "3.8.8"
  }
 },
 "nbformat": 4,
 "nbformat_minor": 5
}
