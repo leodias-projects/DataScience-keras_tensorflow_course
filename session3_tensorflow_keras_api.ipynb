{
 "cells": [
  {
   "cell_type": "markdown",
   "id": "f52f8e4d",
   "metadata": {},
   "source": [
    "# 1. Introducing Keras\n",
    "\n",
    "#### Why keras?\n",
    "\n",
    "Keras is easy and fast for prototyping. Available with a higher-level API in tensorflow 1.9+, Keras has scikit-learn integration. It was built around deep learning concepts, so it is very easy to construct the layers, wire then together and implement the optimization functions.\n",
    "\n",
    "- Less to think about, lesser chances to screw up, which often yields better results without even trying. The faster you experiment, the better your results. \n",
    "- Keras is also easier to tune. \n",
    "\n",
    "The objective here is to set the same neural network used in Tensorflow low-level API with keras for the MNIST data set."
   ]
  },
  {
   "cell_type": "code",
   "execution_count": 1,
   "id": "969f992d",
   "metadata": {},
   "outputs": [],
   "source": [
    "from tensorflow import keras\n",
    "from tensorflow.keras.datasets import mnist\n",
    "from tensorflow.keras.models import Sequential\n",
    "from tensorflow.keras.layers import Dense, Dropout\n",
    "from tensorflow.keras.optimizers import RMSprop"
   ]
  },
  {
   "cell_type": "markdown",
   "id": "9ec2961d",
   "metadata": {},
   "source": [
    "Load up the MNIST data set. There are 60K training samples and 10K test samples."
   ]
  },
  {
   "cell_type": "code",
   "execution_count": 2,
   "id": "91801e5e",
   "metadata": {},
   "outputs": [],
   "source": [
    "(mnist_train_images, mnist_train_labels), (mnist_test_images, mnist_test_labels) = mnist.load_data()"
   ]
  },
  {
   "cell_type": "markdown",
   "id": "ccaee87e",
   "metadata": {},
   "source": [
    "Convert the data into the format Keras / TensorFlow expects. Divide the image data by 255 in order to normalize it into 0-1 range."
   ]
  },
  {
   "cell_type": "code",
   "execution_count": 3,
   "id": "17a1d200",
   "metadata": {},
   "outputs": [],
   "source": [
    "train_images = mnist_train_images.reshape(60000, 784)\n",
    "test_images = mnist_test_images.reshape(10000, 784)\n",
    "train_images = train_images.astype('float32')\n",
    "test_images = test_images.astype('float32')\n",
    "train_images /= 255\n",
    "test_images /= 255"
   ]
  },
  {
   "cell_type": "markdown",
   "id": "b3b5b1b6",
   "metadata": {},
   "source": [
    "Convert the 0-9 labels into \"one-hot\" format. So the training label data is a tensor of shape [60,000, 10] - 60,000 test images each associated with 10 binary values that indicate whether or not the image represents a given number from 0-9."
   ]
  },
  {
   "cell_type": "code",
   "execution_count": 12,
   "id": "e42b56fc",
   "metadata": {},
   "outputs": [],
   "source": [
    "train_labels = keras.utils.to_categorical(mnist_train_labels, 10)\n",
    "test_labels = keras.utils.to_categorical(mnist_test_labels, 10)"
   ]
  },
  {
   "cell_type": "markdown",
   "id": "418828c9",
   "metadata": {},
   "source": [
    "Visualization of training images just to make sure it looks OK:"
   ]
  },
  {
   "cell_type": "code",
   "execution_count": 13,
   "id": "aaf1a36d",
   "metadata": {},
   "outputs": [
    {
     "name": "stdout",
     "output_type": "stream",
     "text": [
      "[0. 0. 0. 1. 0. 0. 0. 0. 0. 0.]\n"
     ]
    },
    {
     "data": {
      "image/png": "[encoded data removed]",
      "text/plain": [
       "<Figure size 432x288 with 1 Axes>"
      ]
     },
     "metadata": {
      "needs_background": "light"
     },
     "output_type": "display_data"
    }
   ],
   "source": [
    "import matplotlib.pyplot as plt\n",
    "\n",
    "def display_sample(num):\n",
    "    #Print the one-hot array of this sample's label \n",
    "    print(train_labels[num])  \n",
    "    #Print the label converted back to a number\n",
    "    label = train_labels[num].argmax(axis=0)\n",
    "    #Reshape the 768 values to a 28x28 image\n",
    "    image = train_images[num].reshape([28,28])\n",
    "    plt.title('Sample: %d  Label: %d' % (num, label))\n",
    "    plt.imshow(image, cmap=plt.get_cmap('gray_r'))\n",
    "    plt.show()\n",
    "    \n",
    "display_sample(1234)"
   ]
  },
  {
   "cell_type": "markdown",
   "id": "3ece21f9",
   "metadata": {},
   "source": [
    "Here's where things get exciting. All that in Tensorflow creating placeholders, variables, and defining linear algebra for each layer in the neural network is not necessary with Keras!\n",
    "\n",
    "We can set up the same layers like this. The input layer of 784 features feeds into a ReLU layer of 512 nodes, which then goes into 10 nodes with softmax applied. Couldn't be simpler:"
   ]
  },
  {
   "cell_type": "code",
   "execution_count": 6,
   "id": "ca3490b2",
   "metadata": {},
   "outputs": [],
   "source": [
    "model = Sequential()\n",
    "model.add(Dense(512, activation='relu', input_shape=(784,)))\n",
    "model.add(Dense(10, activation='softmax'))"
   ]
  },
  {
   "cell_type": "markdown",
   "id": "476f51bb",
   "metadata": {},
   "source": [
    "It is possible to generate a summary for the model"
   ]
  },
  {
   "cell_type": "code",
   "execution_count": 7,
   "id": "6c09a092",
   "metadata": {},
   "outputs": [
    {
     "name": "stdout",
     "output_type": "stream",
     "text": [
      "Model: \"sequential\"\n",
      "_________________________________________________________________\n",
      "Layer (type)                 Output Shape              Param #   \n",
      "=================================================================\n",
      "dense (Dense)                (None, 512)               401920    \n",
      "_________________________________________________________________\n",
      "dense_1 (Dense)              (None, 10)                5130      \n",
      "=================================================================\n",
      "Total params: 407,050\n",
      "Trainable params: 407,050\n",
      "Non-trainable params: 0\n",
      "_________________________________________________________________\n"
     ]
    }
   ],
   "source": [
    "model.summary()"
   ]
  },
  {
   "cell_type": "markdown",
   "id": "d849f068",
   "metadata": {},
   "source": [
    "Setting up the optimizer and loss function is just as simple. The RMSProp optimizer is used here. Other choices include Adagrad, SGD, Adam, Adamax, and Nadam. See https://keras.io/optimizers/"
   ]
  },
  {
   "cell_type": "code",
   "execution_count": 8,
   "id": "f6235748",
   "metadata": {},
   "outputs": [],
   "source": [
    "model.compile(loss='categorical_crossentropy',\n",
    "              optimizer=RMSprop(),\n",
    "              metrics=['accuracy'])"
   ]
  },
  {
   "cell_type": "markdown",
   "id": "01b1069e",
   "metadata": {},
   "source": [
    "Training the model is also just one line of code with Keras. Here we'll do 10 epochs with a batch size of 100. Keras is slower, and if we're not running on top of a GPU-accelerated Tensorflow this can take a fair amount of time."
   ]
  },
  {
   "cell_type": "code",
   "execution_count": 9,
   "id": "12a48911",
   "metadata": {},
   "outputs": [
    {
     "name": "stdout",
     "output_type": "stream",
     "text": [
      "Epoch 1/10\n",
      "600/600 - 5s - loss: 0.2400 - accuracy: 0.9302 - val_loss: 0.1172 - val_accuracy: 0.9652\n",
      "Epoch 2/10\n",
      "600/600 - 5s - loss: 0.0985 - accuracy: 0.9712 - val_loss: 0.0813 - val_accuracy: 0.9754\n",
      "Epoch 3/10\n",
      "600/600 - 5s - loss: 0.0652 - accuracy: 0.9804 - val_loss: 0.0771 - val_accuracy: 0.9774\n",
      "Epoch 4/10\n",
      "600/600 - 5s - loss: 0.0473 - accuracy: 0.9862 - val_loss: 0.0664 - val_accuracy: 0.9800\n",
      "Epoch 5/10\n",
      "600/600 - 5s - loss: 0.0366 - accuracy: 0.9886 - val_loss: 0.0752 - val_accuracy: 0.9778\n",
      "Epoch 6/10\n",
      "600/600 - 5s - loss: 0.0273 - accuracy: 0.9915 - val_loss: 0.0676 - val_accuracy: 0.9804\n",
      "Epoch 7/10\n",
      "600/600 - 4s - loss: 0.0209 - accuracy: 0.9935 - val_loss: 0.0697 - val_accuracy: 0.9805\n",
      "Epoch 8/10\n",
      "600/600 - 6s - loss: 0.0161 - accuracy: 0.9949 - val_loss: 0.0797 - val_accuracy: 0.9787\n",
      "Epoch 9/10\n",
      "600/600 - 5s - loss: 0.0124 - accuracy: 0.9964 - val_loss: 0.0799 - val_accuracy: 0.9819\n",
      "Epoch 10/10\n",
      "600/600 - 5s - loss: 0.0095 - accuracy: 0.9972 - val_loss: 0.0817 - val_accuracy: 0.9804\n"
     ]
    }
   ],
   "source": [
    "history = model.fit(train_images, train_labels,\n",
    "                    batch_size=100,\n",
    "                    epochs=10,\n",
    "                    verbose=2,\n",
    "                    validation_data=(test_images, test_labels))"
   ]
  },
  {
   "cell_type": "markdown",
   "id": "e9fdd19d",
   "metadata": {},
   "source": [
    "But, even with just 10 epochs, we've outperformed our Tensorflow version considerably!"
   ]
  },
  {
   "cell_type": "code",
   "execution_count": 10,
   "id": "339a39df",
   "metadata": {},
   "outputs": [
    {
     "name": "stdout",
     "output_type": "stream",
     "text": [
      "Test loss: 0.08172161877155304\n",
      "Test accuracy: 0.980400025844574\n"
     ]
    }
   ],
   "source": [
    "score = model.evaluate(test_images, test_labels, verbose=0)\n",
    "print('Test loss:', score[0])\n",
    "print('Test accuracy:', score[1])"
   ]
  },
  {
   "cell_type": "markdown",
   "id": "80fc21f2",
   "metadata": {},
   "source": [
    "As before let's visualize the ones it got wrong. As this model is much better, we'll have to search deeper to find mistakes to look at."
   ]
  },
  {
   "cell_type": "code",
   "execution_count": 11,
   "id": "969e43a9",
   "metadata": {
    "scrolled": false
   },
   "outputs": [
    {
     "data": {
      "image/png": "[encoded data removed]",
      "text/plain": [
       "<Figure size 432x288 with 1 Axes>"
      ]
     },
     "metadata": {
      "needs_background": "light"
     },
     "output_type": "display_data"
    },
    {
     "data": {
      "image/png": "[encoded data removed]",
      "text/plain": [
       "<Figure size 432x288 with 1 Axes>"
      ]
     },
     "metadata": {
      "needs_background": "light"
     },
     "output_type": "display_data"
    },
    {
     "data": {
      "image/png": "[encoded data removed]",
      "text/plain": [
       "<Figure size 432x288 with 1 Axes>"
      ]
     },
     "metadata": {
      "needs_background": "light"
     },
     "output_type": "display_data"
    },
    {
     "data": {
      "image/png": "[encoded data removed]",
      "text/plain": [
       "<Figure size 432x288 with 1 Axes>"
      ]
     },
     "metadata": {
      "needs_background": "light"
     },
     "output_type": "display_data"
    },
    {
     "data": {
      "image/png": "[encoded data removed]",
      "text/plain": [
       "<Figure size 432x288 with 1 Axes>"
      ]
     },
     "metadata": {
      "needs_background": "light"
     },
     "output_type": "display_data"
    },
    {
     "data": {
      "image/png": "[encoded data removed]",
      "text/plain": [
       "<Figure size 432x288 with 1 Axes>"
      ]
     },
     "metadata": {
      "needs_background": "light"
     },
     "output_type": "display_data"
    },
    {
     "data": {
      "image/png": "[encoded data removed]",
      "text/plain": [
       "<Figure size 432x288 with 1 Axes>"
      ]
     },
     "metadata": {
      "needs_background": "light"
     },
     "output_type": "display_data"
    },
    {
     "data": {
      "image/png": "[encoded data removed]",
      "text/plain": [
       "<Figure size 432x288 with 1 Axes>"
      ]
     },
     "metadata": {
      "needs_background": "light"
     },
     "output_type": "display_data"
    },
    {
     "data": {
      "image/png": "[encoded data removed]",
      "text/plain": [
       "<Figure size 432x288 with 1 Axes>"
      ]
     },
     "metadata": {
      "needs_background": "light"
     },
     "output_type": "display_data"
    },
    {
     "data": {
      "image/png": "[encoded data removed]",
      "text/plain": [
       "<Figure size 432x288 with 1 Axes>"
      ]
     },
     "metadata": {
      "needs_background": "light"
     },
     "output_type": "display_data"
    },
    {
     "data": {
      "image/png": "[encoded data removed]",
      "text/plain": [
       "<Figure size 432x288 with 1 Axes>"
      ]
     },
     "metadata": {
      "needs_background": "light"
     },
     "output_type": "display_data"
    },
    {
     "data": {
      "image/png": "[encoded data removed]",
      "text/plain": [
       "<Figure size 432x288 with 1 Axes>"
      ]
     },
     "metadata": {
      "needs_background": "light"
     },
     "output_type": "display_data"
    },
    {
     "data": {
      "image/png": "[encoded data removed]",
      "text/plain": [
       "<Figure size 432x288 with 1 Axes>"
      ]
     },
     "metadata": {
      "needs_background": "light"
     },
     "output_type": "display_data"
    },
    {
     "data": {
      "image/png": "[encoded data removed]",
      "text/plain": [
       "<Figure size 432x288 with 1 Axes>"
      ]
     },
     "metadata": {
      "needs_background": "light"
     },
     "output_type": "display_data"
    },
    {
     "data": {
      "image/png": "[encoded data removed]",
      "text/plain": [
       "<Figure size 432x288 with 1 Axes>"
      ]
     },
     "metadata": {
      "needs_background": "light"
     },
     "output_type": "display_data"
    },
    {
     "data": {
      "image/png": "[encoded data removed]",
      "text/plain": [
       "<Figure size 432x288 with 1 Axes>"
      ]
     },
     "metadata": {
      "needs_background": "light"
     },
     "output_type": "display_data"
    },
    {
     "data": {
      "image/png": "[encoded data removed]",
      "text/plain": [
       "<Figure size 432x288 with 1 Axes>"
      ]
     },
     "metadata": {
      "needs_background": "light"
     },
     "output_type": "display_data"
    },
    {
     "data": {
      "image/png": "[encoded data removed]",
      "text/plain": [
       "<Figure size 432x288 with 1 Axes>"
      ]
     },
     "metadata": {
      "needs_background": "light"
     },
     "output_type": "display_data"
    },
    {
     "data": {
      "image/png": "[encoded data removed]",
      "text/plain": [
       "<Figure size 432x288 with 1 Axes>"
      ]
     },
     "metadata": {
      "needs_background": "light"
     },
     "output_type": "display_data"
    },
    {
     "data": {
      "image/png": "[encoded data removed]",
      "text/plain": [
       "<Figure size 432x288 with 1 Axes>"
      ]
     },
     "metadata": {
      "needs_background": "light"
     },
     "output_type": "display_data"
    },
    {
     "data": {
      "image/png": "[encoded data removed]",
      "text/plain": [
       "<Figure size 432x288 with 1 Axes>"
      ]
     },
     "metadata": {
      "needs_background": "light"
     },
     "output_type": "display_data"
    }
   ],
   "source": [
    "for x in range(1000):\n",
    "    test_image = test_images[x,:].reshape(1,784)\n",
    "    predicted_cat = model.predict(test_image).argmax()\n",
    "    label = test_labels[x].argmax()\n",
    "    if (predicted_cat != label):\n",
    "        plt.title('Prediction: %d Label: %d' % (predicted_cat, label))\n",
    "        plt.imshow(test_image.reshape([28,28]), cmap=plt.get_cmap('gray_r'))\n",
    "        plt.show()"
   ]
  },
  {
   "cell_type": "markdown",
   "id": "eb8f821e",
   "metadata": {
    "collapsed": true
   },
   "source": [
    "It is possible to see that most of the ones it's having trouble with are images a human would have trouble with as well!\n",
    "\n",
    "## Exercise\n",
    "\n",
    "As before, lets try to improve on the results! Try epochs or different optimizers\n",
    "\n",
    "It is possible to take advantage of Keras's ease of use to try different topologies quickly. Keras includes a MNIST example, where they add an additional layer, and use Dropout at each step to prevent overfitting, like this:\n",
    "\n",
    "`\n",
    "model = Sequential()\n",
    "model.add(Dense(512, activation='relu', input_shape=(784,)))\n",
    "model.add(Dropout(0.2))\n",
    "model.add(Dense(512, activation='relu'))\n",
    "model.add(Dropout(0.2))\n",
    "model.add(Dense(10, activation='softmax'))\n",
    "`\n",
    "\n",
    "Try adapting that to our code above and see if it makes a difference or not."
   ]
  },
  {
   "cell_type": "markdown",
   "id": "1e2f13a7",
   "metadata": {},
   "source": [
    "# 2. Using Keras to Learn Political Affliations\n",
    "\n",
    "The MNIST example is a multi-class classification, and that is just one type of problem to be solved! In Keras documetation, they have different advices for different types of problems. For example, for a multi-class classification problem, they suggest the use of 2 hidden layers, a dropout layer and softmax.\n",
    "\n",
    "Another type of classification is the binary. In the final layer, it is suggested to use a sigmoid function instead of softmax\n",
    "\n",
    "### Integrating Keras with scikit_learn\n",
    "\n",
    "There is a function to integrate both librarys using KerasClassifier"
   ]
  },
  {
   "cell_type": "markdown",
   "id": "de750202",
   "metadata": {},
   "source": [
    "## Keras Exercise: Predict political party based on votes\n",
    "\n",
    "As a fun little example, we'll use a public data set of how US congressmen voted on 17 different issues in the year 1984. Let's see if we can figure out their political party based on their votes alone, using a deep neural network!\n",
    "\n",
    "For those outside the United States, our two main political parties are \"Democrat\" and \"Republican.\" In modern times they represent progressive and conservative ideologies, respectively.\n",
    "\n",
    "Politics in 1984 weren't quite as polarized as they are today, but you should still be able to get over 90% accuracy without much trouble.\n",
    "\n",
    "Since the point of this exercise is implementing neural networks in Keras, I'll help you to load and prepare the data.\n",
    "\n",
    "Let's start by importing the raw CSV file using Pandas, and make a DataFrame out of it with nice column labels:"
   ]
  },
  {
   "cell_type": "code",
   "execution_count": 1,
   "id": "4ad88dc8",
   "metadata": {
    "scrolled": true
   },
   "outputs": [
    {
     "data": {
      "text/html": [
       "<div>\n",
       "<style scoped>\n",
       "    .dataframe tbody tr th:only-of-type {\n",
       "        vertical-align: middle;\n",
       "    }\n",
       "\n",
       "    .dataframe tbody tr th {\n",
       "        vertical-align: top;\n",
       "    }\n",
       "\n",
       "    .dataframe thead th {\n",
       "        text-align: right;\n",
       "    }\n",
       "</style>\n",
       "<table border=\"1\" class=\"dataframe\">\n",
       "  <thead>\n",
       "    <tr style=\"text-align: right;\">\n",
       "      <th></th>\n",
       "      <th>party</th>\n",
       "      <th>handicapped-infants</th>\n",
       "      <th>water-project-cost-sharing</th>\n",
       "      <th>adoption-of-the-budget-resolution</th>\n",
       "      <th>physician-fee-freeze</th>\n",
       "      <th>el-salvador-aid</th>\n",
       "      <th>religious-groups-in-schools</th>\n",
       "      <th>anti-satellite-test-ban</th>\n",
       "      <th>aid-to-nicaraguan-contras</th>\n",
       "      <th>mx-missle</th>\n",
       "      <th>immigration</th>\n",
       "      <th>synfuels-corporation-cutback</th>\n",
       "      <th>education-spending</th>\n",
       "      <th>superfund-right-to-sue</th>\n",
       "      <th>crime</th>\n",
       "      <th>duty-free-exports</th>\n",
       "      <th>export-administration-act-south-africa</th>\n",
       "    </tr>\n",
       "  </thead>\n",
       "  <tbody>\n",
       "    <tr>\n",
       "      <th>0</th>\n",
       "      <td>republican</td>\n",
       "      <td>n</td>\n",
       "      <td>y</td>\n",
       "      <td>n</td>\n",
       "      <td>y</td>\n",
       "      <td>y</td>\n",
       "      <td>y</td>\n",
       "      <td>n</td>\n",
       "      <td>n</td>\n",
       "      <td>n</td>\n",
       "      <td>y</td>\n",
       "      <td>NaN</td>\n",
       "      <td>y</td>\n",
       "      <td>y</td>\n",
       "      <td>y</td>\n",
       "      <td>n</td>\n",
       "      <td>y</td>\n",
       "    </tr>\n",
       "    <tr>\n",
       "      <th>1</th>\n",
       "      <td>republican</td>\n",
       "      <td>n</td>\n",
       "      <td>y</td>\n",
       "      <td>n</td>\n",
       "      <td>y</td>\n",
       "      <td>y</td>\n",
       "      <td>y</td>\n",
       "      <td>n</td>\n",
       "      <td>n</td>\n",
       "      <td>n</td>\n",
       "      <td>n</td>\n",
       "      <td>n</td>\n",
       "      <td>y</td>\n",
       "      <td>y</td>\n",
       "      <td>y</td>\n",
       "      <td>n</td>\n",
       "      <td>NaN</td>\n",
       "    </tr>\n",
       "    <tr>\n",
       "      <th>2</th>\n",
       "      <td>democrat</td>\n",
       "      <td>NaN</td>\n",
       "      <td>y</td>\n",
       "      <td>y</td>\n",
       "      <td>NaN</td>\n",
       "      <td>y</td>\n",
       "      <td>y</td>\n",
       "      <td>n</td>\n",
       "      <td>n</td>\n",
       "      <td>n</td>\n",
       "      <td>n</td>\n",
       "      <td>y</td>\n",
       "      <td>n</td>\n",
       "      <td>y</td>\n",
       "      <td>y</td>\n",
       "      <td>n</td>\n",
       "      <td>n</td>\n",
       "    </tr>\n",
       "    <tr>\n",
       "      <th>3</th>\n",
       "      <td>democrat</td>\n",
       "      <td>n</td>\n",
       "      <td>y</td>\n",
       "      <td>y</td>\n",
       "      <td>n</td>\n",
       "      <td>NaN</td>\n",
       "      <td>y</td>\n",
       "      <td>n</td>\n",
       "      <td>n</td>\n",
       "      <td>n</td>\n",
       "      <td>n</td>\n",
       "      <td>y</td>\n",
       "      <td>n</td>\n",
       "      <td>y</td>\n",
       "      <td>n</td>\n",
       "      <td>n</td>\n",
       "      <td>y</td>\n",
       "    </tr>\n",
       "    <tr>\n",
       "      <th>4</th>\n",
       "      <td>democrat</td>\n",
       "      <td>y</td>\n",
       "      <td>y</td>\n",
       "      <td>y</td>\n",
       "      <td>n</td>\n",
       "      <td>y</td>\n",
       "      <td>y</td>\n",
       "      <td>n</td>\n",
       "      <td>n</td>\n",
       "      <td>n</td>\n",
       "      <td>n</td>\n",
       "      <td>y</td>\n",
       "      <td>NaN</td>\n",
       "      <td>y</td>\n",
       "      <td>y</td>\n",
       "      <td>y</td>\n",
       "      <td>y</td>\n",
       "    </tr>\n",
       "  </tbody>\n",
       "</table>\n",
       "</div>"
      ],
      "text/plain": [
       "        party handicapped-infants water-project-cost-sharing  \\\n",
       "0  republican                   n                          y   \n",
       "1  republican                   n                          y   \n",
       "2    democrat                 NaN                          y   \n",
       "3    democrat                   n                          y   \n",
       "4    democrat                   y                          y   \n",
       "\n",
       "  adoption-of-the-budget-resolution physician-fee-freeze el-salvador-aid  \\\n",
       "0                                 n                    y               y   \n",
       "1                                 n                    y               y   \n",
       "2                                 y                  NaN               y   \n",
       "3                                 y                    n             NaN   \n",
       "4                                 y                    n               y   \n",
       "\n",
       "  religious-groups-in-schools anti-satellite-test-ban  \\\n",
       "0                           y                       n   \n",
       "1                           y                       n   \n",
       "2                           y                       n   \n",
       "3                           y                       n   \n",
       "4                           y                       n   \n",
       "\n",
       "  aid-to-nicaraguan-contras mx-missle immigration  \\\n",
       "0                         n         n           y   \n",
       "1                         n         n           n   \n",
       "2                         n         n           n   \n",
       "3                         n         n           n   \n",
       "4                         n         n           n   \n",
       "\n",
       "  synfuels-corporation-cutback education-spending superfund-right-to-sue  \\\n",
       "0                          NaN                  y                      y   \n",
       "1                            n                  y                      y   \n",
       "2                            y                  n                      y   \n",
       "3                            y                  n                      y   \n",
       "4                            y                NaN                      y   \n",
       "\n",
       "  crime duty-free-exports export-administration-act-south-africa  \n",
       "0     y                 n                                      y  \n",
       "1     y                 n                                    NaN  \n",
       "2     y                 n                                      n  \n",
       "3     n                 n                                      y  \n",
       "4     y                 y                                      y  "
      ]
     },
     "execution_count": 1,
     "metadata": {},
     "output_type": "execute_result"
    }
   ],
   "source": [
    "import pandas as pd\n",
    "\n",
    "feature_names =  ['party','handicapped-infants', 'water-project-cost-sharing', \n",
    "                    'adoption-of-the-budget-resolution', 'physician-fee-freeze',\n",
    "                    'el-salvador-aid', 'religious-groups-in-schools',\n",
    "                    'anti-satellite-test-ban', 'aid-to-nicaraguan-contras',\n",
    "                    'mx-missle', 'immigration', 'synfuels-corporation-cutback',\n",
    "                    'education-spending', 'superfund-right-to-sue', 'crime',\n",
    "                    'duty-free-exports', 'export-administration-act-south-africa']\n",
    "\n",
    "voting_data = pd.read_csv('house-votes-84.data.txt', na_values=['?'], \n",
    "                          names = feature_names)\n",
    "voting_data.head()"
   ]
  },
  {
   "cell_type": "markdown",
   "id": "ab86981c",
   "metadata": {},
   "source": [
    "We can use describe() to get a feel of how the data looks in aggregate:"
   ]
  },
  {
   "cell_type": "code",
   "execution_count": 2,
   "id": "4a76ae79",
   "metadata": {},
   "outputs": [
    {
     "data": {
      "text/html": [
       "<div>\n",
       "<style scoped>\n",
       "    .dataframe tbody tr th:only-of-type {\n",
       "        vertical-align: middle;\n",
       "    }\n",
       "\n",
       "    .dataframe tbody tr th {\n",
       "        vertical-align: top;\n",
       "    }\n",
       "\n",
       "    .dataframe thead th {\n",
       "        text-align: right;\n",
       "    }\n",
       "</style>\n",
       "<table border=\"1\" class=\"dataframe\">\n",
       "  <thead>\n",
       "    <tr style=\"text-align: right;\">\n",
       "      <th></th>\n",
       "      <th>party</th>\n",
       "      <th>handicapped-infants</th>\n",
       "      <th>water-project-cost-sharing</th>\n",
       "      <th>adoption-of-the-budget-resolution</th>\n",
       "      <th>physician-fee-freeze</th>\n",
       "      <th>el-salvador-aid</th>\n",
       "      <th>religious-groups-in-schools</th>\n",
       "      <th>anti-satellite-test-ban</th>\n",
       "      <th>aid-to-nicaraguan-contras</th>\n",
       "      <th>mx-missle</th>\n",
       "      <th>immigration</th>\n",
       "      <th>synfuels-corporation-cutback</th>\n",
       "      <th>education-spending</th>\n",
       "      <th>superfund-right-to-sue</th>\n",
       "      <th>crime</th>\n",
       "      <th>duty-free-exports</th>\n",
       "      <th>export-administration-act-south-africa</th>\n",
       "    </tr>\n",
       "  </thead>\n",
       "  <tbody>\n",
       "    <tr>\n",
       "      <th>count</th>\n",
       "      <td>435</td>\n",
       "      <td>423</td>\n",
       "      <td>387</td>\n",
       "      <td>424</td>\n",
       "      <td>424</td>\n",
       "      <td>420</td>\n",
       "      <td>424</td>\n",
       "      <td>421</td>\n",
       "      <td>420</td>\n",
       "      <td>413</td>\n",
       "      <td>428</td>\n",
       "      <td>414</td>\n",
       "      <td>404</td>\n",
       "      <td>410</td>\n",
       "      <td>418</td>\n",
       "      <td>407</td>\n",
       "      <td>331</td>\n",
       "    </tr>\n",
       "    <tr>\n",
       "      <th>unique</th>\n",
       "      <td>2</td>\n",
       "      <td>2</td>\n",
       "      <td>2</td>\n",
       "      <td>2</td>\n",
       "      <td>2</td>\n",
       "      <td>2</td>\n",
       "      <td>2</td>\n",
       "      <td>2</td>\n",
       "      <td>2</td>\n",
       "      <td>2</td>\n",
       "      <td>2</td>\n",
       "      <td>2</td>\n",
       "      <td>2</td>\n",
       "      <td>2</td>\n",
       "      <td>2</td>\n",
       "      <td>2</td>\n",
       "      <td>2</td>\n",
       "    </tr>\n",
       "    <tr>\n",
       "      <th>top</th>\n",
       "      <td>democrat</td>\n",
       "      <td>n</td>\n",
       "      <td>y</td>\n",
       "      <td>y</td>\n",
       "      <td>n</td>\n",
       "      <td>y</td>\n",
       "      <td>y</td>\n",
       "      <td>y</td>\n",
       "      <td>y</td>\n",
       "      <td>y</td>\n",
       "      <td>y</td>\n",
       "      <td>n</td>\n",
       "      <td>n</td>\n",
       "      <td>y</td>\n",
       "      <td>y</td>\n",
       "      <td>n</td>\n",
       "      <td>y</td>\n",
       "    </tr>\n",
       "    <tr>\n",
       "      <th>freq</th>\n",
       "      <td>267</td>\n",
       "      <td>236</td>\n",
       "      <td>195</td>\n",
       "      <td>253</td>\n",
       "      <td>247</td>\n",
       "      <td>212</td>\n",
       "      <td>272</td>\n",
       "      <td>239</td>\n",
       "      <td>242</td>\n",
       "      <td>207</td>\n",
       "      <td>216</td>\n",
       "      <td>264</td>\n",
       "      <td>233</td>\n",
       "      <td>209</td>\n",
       "      <td>248</td>\n",
       "      <td>233</td>\n",
       "      <td>269</td>\n",
       "    </tr>\n",
       "  </tbody>\n",
       "</table>\n",
       "</div>"
      ],
      "text/plain": [
       "           party handicapped-infants water-project-cost-sharing  \\\n",
       "count        435                 423                        387   \n",
       "unique         2                   2                          2   \n",
       "top     democrat                   n                          y   \n",
       "freq         267                 236                        195   \n",
       "\n",
       "       adoption-of-the-budget-resolution physician-fee-freeze el-salvador-aid  \\\n",
       "count                                424                  424             420   \n",
       "unique                                 2                    2               2   \n",
       "top                                    y                    n               y   \n",
       "freq                                 253                  247             212   \n",
       "\n",
       "       religious-groups-in-schools anti-satellite-test-ban  \\\n",
       "count                          424                     421   \n",
       "unique                           2                       2   \n",
       "top                              y                       y   \n",
       "freq                           272                     239   \n",
       "\n",
       "       aid-to-nicaraguan-contras mx-missle immigration  \\\n",
       "count                        420       413         428   \n",
       "unique                         2         2           2   \n",
       "top                            y         y           y   \n",
       "freq                         242       207         216   \n",
       "\n",
       "       synfuels-corporation-cutback education-spending superfund-right-to-sue  \\\n",
       "count                           414                404                    410   \n",
       "unique                            2                  2                      2   \n",
       "top                               n                  n                      y   \n",
       "freq                            264                233                    209   \n",
       "\n",
       "       crime duty-free-exports export-administration-act-south-africa  \n",
       "count    418               407                                    331  \n",
       "unique     2                 2                                      2  \n",
       "top        y                 n                                      y  \n",
       "freq     248               233                                    269  "
      ]
     },
     "execution_count": 2,
     "metadata": {},
     "output_type": "execute_result"
    }
   ],
   "source": [
    "voting_data.describe()"
   ]
  },
  {
   "cell_type": "markdown",
   "id": "5ff751b7",
   "metadata": {},
   "source": [
    "We can see there's some missing data to deal with here; some politicians abstained on some votes, or just weren't present when the vote was taken. We will just drop the rows with missing data to keep it simple, but in practice you'd want to first make sure that doing so didn't introduce any sort of bias into your analysis (if one party abstains more than another, that could be problematic for example.)"
   ]
  },
  {
   "cell_type": "code",
   "execution_count": 3,
   "id": "d56eb55e",
   "metadata": {},
   "outputs": [
    {
     "data": {
      "text/html": [
       "<div>\n",
       "<style scoped>\n",
       "    .dataframe tbody tr th:only-of-type {\n",
       "        vertical-align: middle;\n",
       "    }\n",
       "\n",
       "    .dataframe tbody tr th {\n",
       "        vertical-align: top;\n",
       "    }\n",
       "\n",
       "    .dataframe thead th {\n",
       "        text-align: right;\n",
       "    }\n",
       "</style>\n",
       "<table border=\"1\" class=\"dataframe\">\n",
       "  <thead>\n",
       "    <tr style=\"text-align: right;\">\n",
       "      <th></th>\n",
       "      <th>party</th>\n",
       "      <th>handicapped-infants</th>\n",
       "      <th>water-project-cost-sharing</th>\n",
       "      <th>adoption-of-the-budget-resolution</th>\n",
       "      <th>physician-fee-freeze</th>\n",
       "      <th>el-salvador-aid</th>\n",
       "      <th>religious-groups-in-schools</th>\n",
       "      <th>anti-satellite-test-ban</th>\n",
       "      <th>aid-to-nicaraguan-contras</th>\n",
       "      <th>mx-missle</th>\n",
       "      <th>immigration</th>\n",
       "      <th>synfuels-corporation-cutback</th>\n",
       "      <th>education-spending</th>\n",
       "      <th>superfund-right-to-sue</th>\n",
       "      <th>crime</th>\n",
       "      <th>duty-free-exports</th>\n",
       "      <th>export-administration-act-south-africa</th>\n",
       "    </tr>\n",
       "  </thead>\n",
       "  <tbody>\n",
       "    <tr>\n",
       "      <th>count</th>\n",
       "      <td>232</td>\n",
       "      <td>232</td>\n",
       "      <td>232</td>\n",
       "      <td>232</td>\n",
       "      <td>232</td>\n",
       "      <td>232</td>\n",
       "      <td>232</td>\n",
       "      <td>232</td>\n",
       "      <td>232</td>\n",
       "      <td>232</td>\n",
       "      <td>232</td>\n",
       "      <td>232</td>\n",
       "      <td>232</td>\n",
       "      <td>232</td>\n",
       "      <td>232</td>\n",
       "      <td>232</td>\n",
       "      <td>232</td>\n",
       "    </tr>\n",
       "    <tr>\n",
       "      <th>unique</th>\n",
       "      <td>2</td>\n",
       "      <td>2</td>\n",
       "      <td>2</td>\n",
       "      <td>2</td>\n",
       "      <td>2</td>\n",
       "      <td>2</td>\n",
       "      <td>2</td>\n",
       "      <td>2</td>\n",
       "      <td>2</td>\n",
       "      <td>2</td>\n",
       "      <td>2</td>\n",
       "      <td>2</td>\n",
       "      <td>2</td>\n",
       "      <td>2</td>\n",
       "      <td>2</td>\n",
       "      <td>2</td>\n",
       "      <td>2</td>\n",
       "    </tr>\n",
       "    <tr>\n",
       "      <th>top</th>\n",
       "      <td>democrat</td>\n",
       "      <td>n</td>\n",
       "      <td>n</td>\n",
       "      <td>y</td>\n",
       "      <td>n</td>\n",
       "      <td>y</td>\n",
       "      <td>y</td>\n",
       "      <td>y</td>\n",
       "      <td>y</td>\n",
       "      <td>n</td>\n",
       "      <td>y</td>\n",
       "      <td>n</td>\n",
       "      <td>n</td>\n",
       "      <td>y</td>\n",
       "      <td>y</td>\n",
       "      <td>n</td>\n",
       "      <td>y</td>\n",
       "    </tr>\n",
       "    <tr>\n",
       "      <th>freq</th>\n",
       "      <td>124</td>\n",
       "      <td>136</td>\n",
       "      <td>125</td>\n",
       "      <td>123</td>\n",
       "      <td>119</td>\n",
       "      <td>128</td>\n",
       "      <td>149</td>\n",
       "      <td>124</td>\n",
       "      <td>119</td>\n",
       "      <td>119</td>\n",
       "      <td>128</td>\n",
       "      <td>152</td>\n",
       "      <td>124</td>\n",
       "      <td>127</td>\n",
       "      <td>149</td>\n",
       "      <td>146</td>\n",
       "      <td>189</td>\n",
       "    </tr>\n",
       "  </tbody>\n",
       "</table>\n",
       "</div>"
      ],
      "text/plain": [
       "           party handicapped-infants water-project-cost-sharing  \\\n",
       "count        232                 232                        232   \n",
       "unique         2                   2                          2   \n",
       "top     democrat                   n                          n   \n",
       "freq         124                 136                        125   \n",
       "\n",
       "       adoption-of-the-budget-resolution physician-fee-freeze el-salvador-aid  \\\n",
       "count                                232                  232             232   \n",
       "unique                                 2                    2               2   \n",
       "top                                    y                    n               y   \n",
       "freq                                 123                  119             128   \n",
       "\n",
       "       religious-groups-in-schools anti-satellite-test-ban  \\\n",
       "count                          232                     232   \n",
       "unique                           2                       2   \n",
       "top                              y                       y   \n",
       "freq                           149                     124   \n",
       "\n",
       "       aid-to-nicaraguan-contras mx-missle immigration  \\\n",
       "count                        232       232         232   \n",
       "unique                         2         2           2   \n",
       "top                            y         n           y   \n",
       "freq                         119       119         128   \n",
       "\n",
       "       synfuels-corporation-cutback education-spending superfund-right-to-sue  \\\n",
       "count                           232                232                    232   \n",
       "unique                            2                  2                      2   \n",
       "top                               n                  n                      y   \n",
       "freq                            152                124                    127   \n",
       "\n",
       "       crime duty-free-exports export-administration-act-south-africa  \n",
       "count    232               232                                    232  \n",
       "unique     2                 2                                      2  \n",
       "top        y                 n                                      y  \n",
       "freq     149               146                                    189  "
      ]
     },
     "execution_count": 3,
     "metadata": {},
     "output_type": "execute_result"
    }
   ],
   "source": [
    "voting_data.dropna(inplace=True)\n",
    "voting_data.describe()"
   ]
  },
  {
   "cell_type": "markdown",
   "id": "ad20575a",
   "metadata": {},
   "source": [
    "Our neural network needs normalized numbers, not strings, to work. So let's replace all the y's and n's with 1's and 0's, and represent the parties as 1's and 0's as well."
   ]
  },
  {
   "cell_type": "code",
   "execution_count": 4,
   "id": "e91e593f",
   "metadata": {},
   "outputs": [],
   "source": [
    "voting_data.replace(('y', 'n'), (1, 0), inplace=True)\n",
    "voting_data.replace(('democrat', 'republican'), (1, 0), inplace=True)"
   ]
  },
  {
   "cell_type": "code",
   "execution_count": 5,
   "id": "6eb0776f",
   "metadata": {},
   "outputs": [
    {
     "data": {
      "text/html": [
       "<div>\n",
       "<style scoped>\n",
       "    .dataframe tbody tr th:only-of-type {\n",
       "        vertical-align: middle;\n",
       "    }\n",
       "\n",
       "    .dataframe tbody tr th {\n",
       "        vertical-align: top;\n",
       "    }\n",
       "\n",
       "    .dataframe thead th {\n",
       "        text-align: right;\n",
       "    }\n",
       "</style>\n",
       "<table border=\"1\" class=\"dataframe\">\n",
       "  <thead>\n",
       "    <tr style=\"text-align: right;\">\n",
       "      <th></th>\n",
       "      <th>party</th>\n",
       "      <th>handicapped-infants</th>\n",
       "      <th>water-project-cost-sharing</th>\n",
       "      <th>adoption-of-the-budget-resolution</th>\n",
       "      <th>physician-fee-freeze</th>\n",
       "      <th>el-salvador-aid</th>\n",
       "      <th>religious-groups-in-schools</th>\n",
       "      <th>anti-satellite-test-ban</th>\n",
       "      <th>aid-to-nicaraguan-contras</th>\n",
       "      <th>mx-missle</th>\n",
       "      <th>immigration</th>\n",
       "      <th>synfuels-corporation-cutback</th>\n",
       "      <th>education-spending</th>\n",
       "      <th>superfund-right-to-sue</th>\n",
       "      <th>crime</th>\n",
       "      <th>duty-free-exports</th>\n",
       "      <th>export-administration-act-south-africa</th>\n",
       "    </tr>\n",
       "  </thead>\n",
       "  <tbody>\n",
       "    <tr>\n",
       "      <th>5</th>\n",
       "      <td>1</td>\n",
       "      <td>0</td>\n",
       "      <td>1</td>\n",
       "      <td>1</td>\n",
       "      <td>0</td>\n",
       "      <td>1</td>\n",
       "      <td>1</td>\n",
       "      <td>0</td>\n",
       "      <td>0</td>\n",
       "      <td>0</td>\n",
       "      <td>0</td>\n",
       "      <td>0</td>\n",
       "      <td>0</td>\n",
       "      <td>1</td>\n",
       "      <td>1</td>\n",
       "      <td>1</td>\n",
       "      <td>1</td>\n",
       "    </tr>\n",
       "    <tr>\n",
       "      <th>8</th>\n",
       "      <td>0</td>\n",
       "      <td>0</td>\n",
       "      <td>1</td>\n",
       "      <td>0</td>\n",
       "      <td>1</td>\n",
       "      <td>1</td>\n",
       "      <td>1</td>\n",
       "      <td>0</td>\n",
       "      <td>0</td>\n",
       "      <td>0</td>\n",
       "      <td>0</td>\n",
       "      <td>0</td>\n",
       "      <td>1</td>\n",
       "      <td>1</td>\n",
       "      <td>1</td>\n",
       "      <td>0</td>\n",
       "      <td>1</td>\n",
       "    </tr>\n",
       "    <tr>\n",
       "      <th>19</th>\n",
       "      <td>1</td>\n",
       "      <td>1</td>\n",
       "      <td>1</td>\n",
       "      <td>1</td>\n",
       "      <td>0</td>\n",
       "      <td>0</td>\n",
       "      <td>0</td>\n",
       "      <td>1</td>\n",
       "      <td>1</td>\n",
       "      <td>1</td>\n",
       "      <td>0</td>\n",
       "      <td>1</td>\n",
       "      <td>0</td>\n",
       "      <td>0</td>\n",
       "      <td>0</td>\n",
       "      <td>1</td>\n",
       "      <td>1</td>\n",
       "    </tr>\n",
       "    <tr>\n",
       "      <th>23</th>\n",
       "      <td>1</td>\n",
       "      <td>1</td>\n",
       "      <td>1</td>\n",
       "      <td>1</td>\n",
       "      <td>0</td>\n",
       "      <td>0</td>\n",
       "      <td>0</td>\n",
       "      <td>1</td>\n",
       "      <td>1</td>\n",
       "      <td>1</td>\n",
       "      <td>0</td>\n",
       "      <td>0</td>\n",
       "      <td>0</td>\n",
       "      <td>0</td>\n",
       "      <td>0</td>\n",
       "      <td>1</td>\n",
       "      <td>1</td>\n",
       "    </tr>\n",
       "    <tr>\n",
       "      <th>25</th>\n",
       "      <td>1</td>\n",
       "      <td>1</td>\n",
       "      <td>0</td>\n",
       "      <td>1</td>\n",
       "      <td>0</td>\n",
       "      <td>0</td>\n",
       "      <td>0</td>\n",
       "      <td>1</td>\n",
       "      <td>1</td>\n",
       "      <td>1</td>\n",
       "      <td>1</td>\n",
       "      <td>0</td>\n",
       "      <td>0</td>\n",
       "      <td>0</td>\n",
       "      <td>0</td>\n",
       "      <td>1</td>\n",
       "      <td>1</td>\n",
       "    </tr>\n",
       "  </tbody>\n",
       "</table>\n",
       "</div>"
      ],
      "text/plain": [
       "    party  handicapped-infants  water-project-cost-sharing  \\\n",
       "5       1                    0                           1   \n",
       "8       0                    0                           1   \n",
       "19      1                    1                           1   \n",
       "23      1                    1                           1   \n",
       "25      1                    1                           0   \n",
       "\n",
       "    adoption-of-the-budget-resolution  physician-fee-freeze  el-salvador-aid  \\\n",
       "5                                   1                     0                1   \n",
       "8                                   0                     1                1   \n",
       "19                                  1                     0                0   \n",
       "23                                  1                     0                0   \n",
       "25                                  1                     0                0   \n",
       "\n",
       "    religious-groups-in-schools  anti-satellite-test-ban  \\\n",
       "5                             1                        0   \n",
       "8                             1                        0   \n",
       "19                            0                        1   \n",
       "23                            0                        1   \n",
       "25                            0                        1   \n",
       "\n",
       "    aid-to-nicaraguan-contras  mx-missle  immigration  \\\n",
       "5                           0          0            0   \n",
       "8                           0          0            0   \n",
       "19                          1          1            0   \n",
       "23                          1          1            0   \n",
       "25                          1          1            1   \n",
       "\n",
       "    synfuels-corporation-cutback  education-spending  superfund-right-to-sue  \\\n",
       "5                              0                   0                       1   \n",
       "8                              0                   1                       1   \n",
       "19                             1                   0                       0   \n",
       "23                             0                   0                       0   \n",
       "25                             0                   0                       0   \n",
       "\n",
       "    crime  duty-free-exports  export-administration-act-south-africa  \n",
       "5       1                  1                                       1  \n",
       "8       1                  0                                       1  \n",
       "19      0                  1                                       1  \n",
       "23      0                  1                                       1  \n",
       "25      0                  1                                       1  "
      ]
     },
     "execution_count": 5,
     "metadata": {},
     "output_type": "execute_result"
    }
   ],
   "source": [
    "voting_data.head()"
   ]
  },
  {
   "cell_type": "markdown",
   "id": "f4d1f7cc",
   "metadata": {},
   "source": [
    "Finally let's extract the features and labels in the form that Keras will expect:"
   ]
  },
  {
   "cell_type": "code",
   "execution_count": 6,
   "id": "9cabaaa9",
   "metadata": {},
   "outputs": [],
   "source": [
    "all_features = voting_data[feature_names].drop('party', axis=1).values\n",
    "all_classes = voting_data['party'].values"
   ]
  },
  {
   "cell_type": "markdown",
   "id": "8a55d74c",
   "metadata": {},
   "source": [
    "OK, so have a go at it! You'll want to refer back to the slide on using Keras with binary classification - there are only two parties, so this is a binary problem. This also saves us the hassle of representing classes with \"one-hot\" format like we had to do with MNIST; our output is just a single 0 or 1 value.\n",
    "\n",
    "Also refer to the scikit_learn integration slide, and use cross_val_score to evaluate your resulting model with 10-fold cross-validation.\n",
    "\n",
    "**If you're using tensorflow-gpu on a Windows machine** by the way, you probably *do* want to peek a little bit at my solution - if you run into memory allocation errors, there's a workaround there you can use.\n",
    "\n",
    "Try out your code here:"
   ]
  },
  {
   "cell_type": "markdown",
   "id": "3eebd657",
   "metadata": {},
   "source": [
    "## My implementation is below\n",
    "\n",
    "# No peeking!\n",
    "\n",
    "![title](peek.jpg)"
   ]
  },
  {
   "cell_type": "code",
   "execution_count": 7,
   "id": "b3620d93",
   "metadata": {},
   "outputs": [
    {
     "data": {
      "text/plain": [
       "0.9438405811786652"
      ]
     },
     "execution_count": 7,
     "metadata": {},
     "output_type": "execute_result"
    }
   ],
   "source": [
    "from tensorflow.keras.layers import Dense, Dropout\n",
    "from tensorflow.keras.models import Sequential\n",
    "from sklearn.model_selection import cross_val_score\n",
    "\n",
    "def create_model():\n",
    "    model = Sequential()\n",
    "    #16 feature inputs (votes) going into an 32-unit layer \n",
    "    model.add(Dense(32, input_dim=16, kernel_initializer='normal', activation='relu'))\n",
    "    # Another hidden layer of 16 units\n",
    "    model.add(Dense(16, kernel_initializer='normal', activation='relu'))\n",
    "    # Output layer with a binary classification (Democrat or Republican political party)\n",
    "    model.add(Dense(1, kernel_initializer='normal', activation='sigmoid'))\n",
    "    # Compile model\n",
    "    model.compile(loss='binary_crossentropy', optimizer='adam', metrics=['accuracy'])\n",
    "    return model\n",
    "\n",
    "from tensorflow.keras.wrappers.scikit_learn import KerasClassifier\n",
    "\n",
    "# Wrap our Keras model in an estimator compatible with scikit_learn\n",
    "estimator = KerasClassifier(build_fn=create_model, epochs=100, verbose=0)\n",
    "# Now we can use scikit_learn's cross_val_score to evaluate this model identically to the others\n",
    "cv_scores = cross_val_score(estimator, all_features, all_classes, cv=10)\n",
    "cv_scores.mean()"
   ]
  },
  {
   "cell_type": "markdown",
   "id": "03f3a635",
   "metadata": {},
   "source": [
    "94% without even trying too hard! Did you do better? Maybe more neurons, more layers, or Dropout layers would help even more."
   ]
  }
 ],
 "metadata": {
  "kernelspec": {
   "display_name": "Python 3",
   "language": "python",
   "name": "python3"
  },
  "language_info": {
   "codemirror_mode": {
    "name": "ipython",
    "version": 3
   },
   "file_extension": ".py",
   "mimetype": "text/x-python",
   "name": "python",
   "nbconvert_exporter": "python",
   "pygments_lexer": "ipython3",
   "version": "3.8.8"
  }
 },
 "nbformat": 4,
 "nbformat_minor": 5
}
