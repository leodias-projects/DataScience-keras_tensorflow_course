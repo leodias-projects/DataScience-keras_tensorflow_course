{
 "cells": [
  {
   "cell_type": "markdown",
   "id": "568dac86",
   "metadata": {},
   "source": [
    "# Using CNNs for Handwriting Recognition - MNIST \n",
    "\n",
    "The objective is to use the MNIST data set again and a CNN, which is better suited for image processing."
   ]
  },
  {
   "cell_type": "markdown",
   "id": "25d0527f",
   "metadata": {},
   "source": [
    "# Import data, keras, and tensorflow"
   ]
  },
  {
   "cell_type": "code",
   "execution_count": 2,
   "id": "220cae74",
   "metadata": {},
   "outputs": [],
   "source": [
    "import tensorflow\n",
    "from tensorflow.keras.datasets import mnist\n",
    "from tensorflow.keras.models import Sequential\n",
    "from tensorflow.keras.layers import Dense, Dropout, Conv2D, MaxPooling2D, Flatten\n",
    "from tensorflow.keras.optimizers import RMSprop"
   ]
  },
  {
   "cell_type": "markdown",
   "id": "81c37400",
   "metadata": {},
   "source": [
    "# Load up as train/test data"
   ]
  },
  {
   "cell_type": "code",
   "execution_count": 3,
   "id": "812415c6",
   "metadata": {},
   "outputs": [],
   "source": [
    "(mnist_train_images, mnist_train_labels), (mnist_test_images, mnist_test_labels) = mnist.load_data()"
   ]
  },
  {
   "cell_type": "markdown",
   "id": "da231da7",
   "metadata": {},
   "source": [
    "# Data format\n",
    "The data will be 2D images of 28x28 pixels instead of a flattened stream of 784 pixels. Depending on the data format Keras is set up for, this may be 1x28x28 or 28x28x1. Luckly, there is a method for finding that and reshape the data the way it needs"
   ]
  },
  {
   "cell_type": "code",
   "execution_count": 4,
   "id": "fbb0208b",
   "metadata": {},
   "outputs": [],
   "source": [
    "from tensorflow.keras import backend as K\n",
    "\n",
    "if K.image_data_format() == 'channels_first':\n",
    "    train_images = mnist_train_images.reshape(mnist_train_images.shape[0], 1, 28, 28)\n",
    "    test_images = mnist_test_images.reshape(mnist_test_images.shape[0], 1, 28, 28)\n",
    "    input_shape = (1, 28, 28)\n",
    "else:\n",
    "    train_images = mnist_train_images.reshape(mnist_train_images.shape[0], 28, 28, 1)\n",
    "    test_images = mnist_test_images.reshape(mnist_test_images.shape[0], 28, 28, 1)\n",
    "    input_shape = (28, 28, 1)"
   ]
  },
  {
   "cell_type": "markdown",
   "id": "bcda3111",
   "metadata": {},
   "source": [
    "# Change data type and normalize it"
   ]
  },
  {
   "cell_type": "code",
   "execution_count": 5,
   "id": "18bca177",
   "metadata": {},
   "outputs": [],
   "source": [
    "train_images = train_images.astype('float32')\n",
    "test_images = test_images.astype('float32')\n",
    "train_images /= 255\n",
    "test_images /= 255"
   ]
  },
  {
   "cell_type": "markdown",
   "id": "5e6266a3",
   "metadata": {},
   "source": [
    "# One hot labels"
   ]
  },
  {
   "cell_type": "code",
   "execution_count": 11,
   "id": "4e35d351",
   "metadata": {},
   "outputs": [],
   "source": [
    "train_labels = tensorflow.keras.utils.to_categorical(mnist_train_labels, 10)\n",
    "test_labels = tensorflow.keras.utils.to_categorical(mnist_test_labels, 10)"
   ]
  },
  {
   "cell_type": "markdown",
   "id": "c81d0e59",
   "metadata": {},
   "source": [
    "# Checking a sample"
   ]
  },
  {
   "cell_type": "code",
   "execution_count": 13,
   "id": "47d326f0",
   "metadata": {},
   "outputs": [
    {
     "data": {
      "image/png": "[encoded data removed]",
      "text/plain": [
       "<Figure size 432x288 with 1 Axes>"
      ]
     },
     "metadata": {
      "needs_background": "light"
     },
     "output_type": "display_data"
    }
   ],
   "source": [
    "import matplotlib.pyplot as plt\n",
    "\n",
    "def display_sample(num):\n",
    "    #Print the label converted back to a number\n",
    "    label = train_labels[num].argmax(axis=0)\n",
    "    #Reshape the 768 values to a 28x28 image\n",
    "    image = train_images[num].reshape([28,28])\n",
    "    plt.title('Sample: %d  Label: %d' % (num, label))\n",
    "    plt.imshow(image, cmap=plt.get_cmap('gray_r'));\n",
    "    plt.show()\n",
    "    \n",
    "display_sample(1234)"
   ]
  },
  {
   "cell_type": "markdown",
   "id": "d8cc0414",
   "metadata": {},
   "source": [
    "# The CNN\n",
    "\n",
    "A CNN involves more layers. They are not strictly necessary (pooling and dropout), but helps to avoid overfitting and running faster.\n",
    "\n",
    "- First 2D convolution of the image - 32 windows of each image, 3x3 in size\n",
    "- Second 2D with 64 windows of 3x3. This topology is recommended within Keras's examples. It is advisable to re-use previous research whenever possible while tuning CNN's, as it is hard to do.\n",
    "- Next is a MaxPooling2D layer that takes the maximum of each 2x2 result to distill the results down into something more manageable.\n",
    "- A dropout filter is applied to prevent overfitting.\n",
    "- Next the 2D layer is flattened into a 1D layer.\n",
    "\n",
    "At this point it is the same problem a conventional neural network:\n",
    "\n",
    "- Feed that into a hidden, flat layer of 128 units.\n",
    "- Dropout again to further prevent overfitting.\n",
    "- Finally, final layer with 10 units where softmax is applied to choose our category of 0-9."
   ]
  },
  {
   "cell_type": "code",
   "execution_count": 14,
   "id": "2a5a96ba",
   "metadata": {},
   "outputs": [],
   "source": [
    "model = Sequential()\n",
    "model.add(Conv2D(32, kernel_size=(3, 3),\n",
    "                 activation='relu',\n",
    "                 input_shape=input_shape))\n",
    "# 64 3x3 kernels\n",
    "model.add(Conv2D(64, (3, 3), activation='relu'))\n",
    "# Reduce by taking the max of each 2x2 block\n",
    "model.add(MaxPooling2D(pool_size=(2, 2)))\n",
    "# Dropout to avoid overfitting\n",
    "model.add(Dropout(0.25))\n",
    "# Flatten the results to one dimension for passing into our final layer\n",
    "model.add(Flatten())\n",
    "# A hidden layer to learn with\n",
    "model.add(Dense(128, activation='relu'))\n",
    "# Another dropout\n",
    "model.add(Dropout(0.5))\n",
    "# Final categorization from 0-9 with softmax\n",
    "model.add(Dense(10, activation='softmax'))"
   ]
  },
  {
   "cell_type": "markdown",
   "id": "17bbc821",
   "metadata": {},
   "source": [
    "# Model description"
   ]
  },
  {
   "cell_type": "code",
   "execution_count": 15,
   "id": "424c5b3a",
   "metadata": {},
   "outputs": [
    {
     "name": "stdout",
     "output_type": "stream",
     "text": [
      "Model: \"sequential\"\n",
      "_________________________________________________________________\n",
      "Layer (type)                 Output Shape              Param #   \n",
      "=================================================================\n",
      "conv2d (Conv2D)              (None, 26, 26, 32)        320       \n",
      "_________________________________________________________________\n",
      "conv2d_1 (Conv2D)            (None, 24, 24, 64)        18496     \n",
      "_________________________________________________________________\n",
      "max_pooling2d (MaxPooling2D) (None, 12, 12, 64)        0         \n",
      "_________________________________________________________________\n",
      "dropout (Dropout)            (None, 12, 12, 64)        0         \n",
      "_________________________________________________________________\n",
      "flatten (Flatten)            (None, 9216)              0         \n",
      "_________________________________________________________________\n",
      "dense (Dense)                (None, 128)               1179776   \n",
      "_________________________________________________________________\n",
      "dropout_1 (Dropout)          (None, 128)               0         \n",
      "_________________________________________________________________\n",
      "dense_1 (Dense)              (None, 10)                1290      \n",
      "=================================================================\n",
      "Total params: 1,199,882\n",
      "Trainable params: 1,199,882\n",
      "Non-trainable params: 0\n",
      "_________________________________________________________________\n"
     ]
    }
   ],
   "source": [
    "model.summary()"
   ]
  },
  {
   "cell_type": "markdown",
   "id": "34d47f86",
   "metadata": {},
   "source": [
    "# Loss function\n",
    "Still a multiple categorization, so categorical_crossentropy is still the right loss function to use"
   ]
  },
  {
   "cell_type": "code",
   "execution_count": 16,
   "id": "dbb31fca",
   "metadata": {},
   "outputs": [],
   "source": [
    "model.compile(loss='categorical_crossentropy',\n",
    "              optimizer='adam',\n",
    "              metrics=['accuracy'])"
   ]
  },
  {
   "cell_type": "markdown",
   "id": "00ede191",
   "metadata": {},
   "source": [
    "# Training the model\n",
    "\n",
    "### This could take hours to run, and the CPU will be maxed out during that time. Don't run the next block unless you can tie up your computer for a long time. It will print progress as each epoch is run, but each epoch can take around 20 minutes."
   ]
  },
  {
   "cell_type": "code",
   "execution_count": 17,
   "id": "5eb94c18",
   "metadata": {},
   "outputs": [
    {
     "name": "stdout",
     "output_type": "stream",
     "text": [
      "Epoch 1/10\n",
      "1875/1875 - 103s - loss: 0.1875 - accuracy: 0.9438 - val_loss: 0.0444 - val_accuracy: 0.9858\n",
      "Epoch 2/10\n",
      "1875/1875 - 103s - loss: 0.0787 - accuracy: 0.9766 - val_loss: 0.0330 - val_accuracy: 0.9888\n",
      "Epoch 3/10\n",
      "1875/1875 - 102s - loss: 0.0598 - accuracy: 0.9825 - val_loss: 0.0335 - val_accuracy: 0.9897\n",
      "Epoch 4/10\n",
      "1875/1875 - 102s - loss: 0.0490 - accuracy: 0.9852 - val_loss: 0.0313 - val_accuracy: 0.9889\n",
      "Epoch 5/10\n",
      "1875/1875 - 103s - loss: 0.0433 - accuracy: 0.9865 - val_loss: 0.0320 - val_accuracy: 0.9896\n",
      "Epoch 6/10\n",
      "1875/1875 - 113s - loss: 0.0353 - accuracy: 0.9891 - val_loss: 0.0342 - val_accuracy: 0.9886\n",
      "Epoch 7/10\n",
      "1875/1875 - 109s - loss: 0.0328 - accuracy: 0.9902 - val_loss: 0.0320 - val_accuracy: 0.9905\n",
      "Epoch 8/10\n",
      "1875/1875 - 107s - loss: 0.0286 - accuracy: 0.9912 - val_loss: 0.0370 - val_accuracy: 0.9910\n",
      "Epoch 9/10\n",
      "1875/1875 - 112s - loss: 0.0254 - accuracy: 0.9918 - val_loss: 0.0291 - val_accuracy: 0.9918\n",
      "Epoch 10/10\n",
      "1875/1875 - 110s - loss: 0.0228 - accuracy: 0.9926 - val_loss: 0.0328 - val_accuracy: 0.9915\n"
     ]
    }
   ],
   "source": [
    "history = model.fit(train_images, train_labels,\n",
    "                    batch_size=32,\n",
    "                    epochs=10,\n",
    "                    verbose=2,\n",
    "                    validation_data=(test_images, test_labels))"
   ]
  },
  {
   "cell_type": "markdown",
   "id": "49e09117",
   "metadata": {},
   "source": [
    "# Results"
   ]
  },
  {
   "cell_type": "code",
   "execution_count": 18,
   "id": "b949e611",
   "metadata": {},
   "outputs": [
    {
     "name": "stdout",
     "output_type": "stream",
     "text": [
      "Test loss: 0.032842304557561874\n",
      "Test accuracy: 0.9915000200271606\n"
     ]
    }
   ],
   "source": [
    "score = model.evaluate(test_images, test_labels, verbose=0)\n",
    "print('Test loss:', score[0])\n",
    "print('Test accuracy:', score[1])"
   ]
  },
  {
   "cell_type": "markdown",
   "id": "1f79f701",
   "metadata": {},
   "source": [
    "Only 10 epochs and 99.2%, DAMN! Good stuff"
   ]
  },
  {
   "cell_type": "code",
   "execution_count": null,
   "id": "ab455bb8",
   "metadata": {},
   "outputs": [],
   "source": []
  }
 ],
 "metadata": {
  "kernelspec": {
   "display_name": "Python 3",
   "language": "python",
   "name": "python3"
  },
  "language_info": {
   "codemirror_mode": {
    "name": "ipython",
    "version": 3
   },
   "file_extension": ".py",
   "mimetype": "text/x-python",
   "name": "python",
   "nbconvert_exporter": "python",
   "pygments_lexer": "ipython3",
   "version": "3.8.8"
  }
 },
 "nbformat": 4,
 "nbformat_minor": 5
}
